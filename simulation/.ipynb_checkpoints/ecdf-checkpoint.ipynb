{
 "cells": [
  {
   "cell_type": "code",
   "execution_count": 13,
   "metadata": {
    "scrolled": true
   },
   "outputs": [
    {
     "name": "stdout",
     "output_type": "stream",
     "text": [
      "19.5\n"
     ]
    }
   ],
   "source": [
    "import math\n",
    "import random\n",
    "import numpy as np\n",
    "import pandas as pd\n",
    "import matplotlib.pyplot as plt\n",
    "from datetime import datetime\n",
    "%matplotlib inline\n",
    "\n",
    "strategies = []\n",
    "for i in range(20):\n",
    "    strategies.append(random.random() * 5 + 22)\n",
    "    \n",
    "while True:\n",
    "    x = np.sort(strategies)\n",
    "    \n",
    "\n",
    "def get_position(x):\n",
    "    pos = 0.5\n",
    "    tie = -1\n",
    "    for strat in strategies:\n",
    "        if x > strat:\n",
    "            pos = pos + 1\n",
    "        elif x == strat:\n",
    "            tie = tie + 1\n",
    "    return pos + (tie/len(strategies))"
   ]
  }
 ],
 "metadata": {
  "kernelspec": {
   "display_name": "Python 3",
   "language": "python",
   "name": "python3"
  },
  "language_info": {
   "codemirror_mode": {
    "name": "ipython",
    "version": 3
   },
   "file_extension": ".py",
   "mimetype": "text/x-python",
   "name": "python",
   "nbconvert_exporter": "python",
   "pygments_lexer": "ipython3",
   "version": "3.6.9"
  }
 },
 "nbformat": 4,
 "nbformat_minor": 2
}

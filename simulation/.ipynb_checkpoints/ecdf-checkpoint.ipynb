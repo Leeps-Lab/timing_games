{
 "cells": [
  {
   "cell_type": "code",
   "execution_count": 17,
   "metadata": {
    "scrolled": true
   },
   "outputs": [
    {
     "name": "stderr",
     "output_type": "stream",
     "text": [
      "/usr/lib/python3/dist-packages/ipykernel_launcher.py:33: RuntimeWarning: invalid value encountered in sqrt\n"
     ]
    },
    {
     "data": {
      "image/png": "[encoded data removed]",
      "text/plain": [
       "<Figure size 432x288 with 1 Axes>"
      ]
     },
     "metadata": {},
     "output_type": "display_data"
    }
   ],
   "source": [
    "\"\"\"\n",
    "scatterplot taken from here\n",
    "https://cmdlinetips.com/2019/05/empirical-cumulative-distribution-function-ecdf-in-python/\n",
    "\"\"\"\n",
    "\n",
    "#read from csv and sort relevant data by timestamp\n",
    "import math\n",
    "import numpy as np\n",
    "import pandas as pd\n",
    "import matplotlib.pyplot as plt\n",
    "from datetime import datetime\n",
    "%matplotlib inline\n",
    "\n",
    "# get the relevant strategy data\n",
    "raw = pd.read_csv(\"cdf.csv\")\n",
    "lam = 5\n",
    "gam = 4.4\n",
    "rho = 3\n",
    "strategies = []\n",
    "game = \"greed\"\n",
    "\n",
    "df = pd.DataFrame()\n",
    "for col in raw.columns:\n",
    "    for item in raw[col]:\n",
    "        strategies.append(item)\n",
    "\n",
    "x = np.sort(strategies)\n",
    "y = np.arange(len(x))/float(len(x))\n",
    "plt.plot(x, y)\n",
    "\n",
    "cdfx = np.arange(5, 5.94, 0.01)\n",
    "if game == \"fear\":\n",
    "    cdfy = gam - rho + np.sqrt((gam + rho) ** 2 - 4 * ((1 + rho) * (gam - 1) * (1 + lam ** 2))/(1 + 2 * lam * cdfx - cdfx ** 2))\n",
    "if game == \"greed\":\n",
    "    cdfy = gam - rho - np.sqrt((gam + rho) ** 2 - 4 * gam * rho * (1 + lam ** 2)/(1 + 2 * lam * cdfx - cdfx ** 2))\n",
    "cdfy = cdfy/2\n",
    "\n",
    "plt.plot(cdfx, cdfy)\n",
    "\n",
    "plt.show()"
   ]
  },
  {
   "cell_type": "code",
   "execution_count": null,
   "metadata": {},
   "outputs": [],
   "source": []
  }
 ],
 "metadata": {
  "kernelspec": {
   "display_name": "Python 3",
   "language": "python",
   "name": "python3"
  },
  "language_info": {
   "codemirror_mode": {
    "name": "ipython",
    "version": 3
   },
   "file_extension": ".py",
   "mimetype": "text/x-python",
   "name": "python",
   "nbconvert_exporter": "python",
   "pygments_lexer": "ipython3",
   "version": "3.6.9"
  }
 },
 "nbformat": 4,
 "nbformat_minor": 2
}
